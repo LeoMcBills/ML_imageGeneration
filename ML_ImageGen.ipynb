{
  "nbformat": 4,
  "nbformat_minor": 0,
  "metadata": {
    "colab": {
      "provenance": [],
      "gpuType": "T4",
      "authorship_tag": "ABX9TyNwyA+U0cYMXFGSzFyaZnM1",
      "include_colab_link": true
    },
    "kernelspec": {
      "name": "python3",
      "display_name": "Python 3"
    },
    "language_info": {
      "name": "python"
    },
    "accelerator": "GPU"
  },
  "cells": [
    {
      "cell_type": "markdown",
      "metadata": {
        "id": "view-in-github",
        "colab_type": "text"
      },
      "source": [
        "<a href=\"https://colab.research.google.com/github/LeoMcBills/ML_imageGeneration/blob/main/ML_ImageGen.ipynb\" target=\"_parent\"><img src=\"https://colab.research.google.com/assets/colab-badge.svg\" alt=\"Open In Colab\"/></a>"
      ]
    },
    {
      "cell_type": "markdown",
      "source": [
        "# Variation autoencoders"
      ],
      "metadata": {
        "id": "OBMoNxjC5lfE"
      }
    },
    {
      "cell_type": "markdown",
      "source": [
        "GANs"
      ],
      "metadata": {
        "id": "1eDns_Yb5y63"
      }
    },
    {
      "cell_type": "code",
      "execution_count": 1,
      "metadata": {
        "id": "x_2kN3zavpuY"
      },
      "outputs": [],
      "source": [
        "import tensorflow as tf\n",
        "import numpy as np\n",
        "from tensorflow.keras.models import Model\n",
        "from tensorflow.keras.layers import Layer\n",
        "from tensorflow.keras.layers import (Reshape, Conv2DTranspose, Add, Conv2D, MaxPool2D, Dense,\n",
        "                                     Flatten, InputLayer, BatchNormalization, Input, )\n",
        "from tensorflow.keras.optimizers import Adam"
      ]
    },
    {
      "cell_type": "markdown",
      "source": [
        "# Data Preparation"
      ],
      "metadata": {
        "id": "Ay3FPcALBOE8"
      }
    },
    {
      "cell_type": "code",
      "source": [
        "(x_train, _), (x_test, _) = tf.keras.datasets.mnist.load_data()\n",
        "mnist_digits = np.concatenate([x_train, x_test], axis=0)\n",
        "mnist_digits = np.expand_dims(mnist_digits, -1).astype(\"float32\") / 255"
      ],
      "metadata": {
        "id": "Osa7YJvjBL7x"
      },
      "execution_count": 2,
      "outputs": []
    },
    {
      "cell_type": "code",
      "source": [
        "dataset = tf.data.Dataset.from_tensor_slices(mnist_digits)"
      ],
      "metadata": {
        "id": "_Hr87EmwCM0K"
      },
      "execution_count": 3,
      "outputs": []
    },
    {
      "cell_type": "code",
      "source": [
        "len(dataset)"
      ],
      "metadata": {
        "colab": {
          "base_uri": "https://localhost:8080/"
        },
        "id": "_UGfKkT7CZ0T",
        "outputId": "445ff0a3-d899-4175-ecff-06c7a1f208ed"
      },
      "execution_count": 4,
      "outputs": [
        {
          "output_type": "execute_result",
          "data": {
            "text/plain": [
              "70000"
            ]
          },
          "metadata": {},
          "execution_count": 4
        }
      ]
    },
    {
      "cell_type": "code",
      "source": [
        "BATCH_SIZE = 128\n",
        "LATENT_DIM = 2"
      ],
      "metadata": {
        "id": "DzbBqHa7CmIs"
      },
      "execution_count": 5,
      "outputs": []
    },
    {
      "cell_type": "code",
      "source": [
        "train_dataset = (\n",
        "    dataset\n",
        "    .shuffle(buffer_size = 1024, reshuffle_each_iteration = True)\n",
        "    .batch(BATCH_SIZE)\n",
        "    .prefetch(tf.data.AUTOTUNE)\n",
        ")"
      ],
      "metadata": {
        "id": "Ag0v1k7NCsav"
      },
      "execution_count": 6,
      "outputs": []
    },
    {
      "cell_type": "code",
      "source": [
        "train_dataset"
      ],
      "metadata": {
        "colab": {
          "base_uri": "https://localhost:8080/"
        },
        "id": "GhFaR7b1DKwm",
        "outputId": "6af6149a-f2b6-4223-fcb4-f8abb0b6bda3"
      },
      "execution_count": 7,
      "outputs": [
        {
          "output_type": "execute_result",
          "data": {
            "text/plain": [
              "<_PrefetchDataset element_spec=TensorSpec(shape=(None, 28, 28, 1), dtype=tf.float32, name=None)>"
            ]
          },
          "metadata": {},
          "execution_count": 7
        }
      ]
    },
    {
      "cell_type": "markdown",
      "source": [
        "# Modeling"
      ],
      "metadata": {
        "id": "zmPq9PWNDZ3m"
      }
    },
    {
      "cell_type": "markdown",
      "source": [
        "#Sampling"
      ],
      "metadata": {
        "id": "a0q8i-BgGSaI"
      }
    },
    {
      "cell_type": "code",
      "source": [
        "class Sampling(Layer):\n",
        "\n",
        "  def call(self, inputs):\n",
        "    mean, log_var = inputs\n",
        "\n",
        "    return mean + tf.math.exp(0.5*log_var)*tf.random.normal(shape = (BATCH_SIZE, LATENT_DIM))"
      ],
      "metadata": {
        "id": "9HzXNgHPGWnm"
      },
      "execution_count": 8,
      "outputs": []
    },
    {
      "cell_type": "markdown",
      "source": [
        "# Encoder"
      ],
      "metadata": {
        "id": "c0vMuLJODear"
      }
    },
    {
      "cell_type": "code",
      "source": [
        "encoder_inputs = Input(shape=(28, 28, 1))\n",
        "\n",
        "x = Conv2D(32, 3, activation='relu', strides=2, padding='same')(encoder_inputs)\n",
        "x = Conv2D(32, 3, activation='relu', strides=2, padding='same')(x)\n",
        "\n",
        "x = Flatten()(x)\n",
        "x = Dense(16, activation='relu')(x)\n",
        "\n",
        "mean = Dense(LATENT_DIM,)(x)\n",
        "log_var = Dense(LATENT_DIM, )(x)\n",
        "\n",
        "z = Sampling()([mean, log_var])\n",
        "\n",
        "encoder_model = Model(encoder_inputs, [z, mean, log_var], name='encoder')\n",
        "encoder_model.summary()"
      ],
      "metadata": {
        "id": "6Pg7dtKpDTF2",
        "colab": {
          "base_uri": "https://localhost:8080/"
        },
        "outputId": "e3c8e6d3-89ea-4d87-afab-ebfcbcf0fdb6"
      },
      "execution_count": 9,
      "outputs": [
        {
          "output_type": "stream",
          "name": "stdout",
          "text": [
            "Model: \"encoder\"\n",
            "__________________________________________________________________________________________________\n",
            " Layer (type)                Output Shape                 Param #   Connected to                  \n",
            "==================================================================================================\n",
            " input_1 (InputLayer)        [(None, 28, 28, 1)]          0         []                            \n",
            "                                                                                                  \n",
            " conv2d (Conv2D)             (None, 14, 14, 32)           320       ['input_1[0][0]']             \n",
            "                                                                                                  \n",
            " conv2d_1 (Conv2D)           (None, 7, 7, 32)             9248      ['conv2d[0][0]']              \n",
            "                                                                                                  \n",
            " flatten (Flatten)           (None, 1568)                 0         ['conv2d_1[0][0]']            \n",
            "                                                                                                  \n",
            " dense (Dense)               (None, 16)                   25104     ['flatten[0][0]']             \n",
            "                                                                                                  \n",
            " dense_1 (Dense)             (None, 2)                    34        ['dense[0][0]']               \n",
            "                                                                                                  \n",
            " dense_2 (Dense)             (None, 2)                    34        ['dense[0][0]']               \n",
            "                                                                                                  \n",
            " sampling (Sampling)         (128, 2)                     0         ['dense_1[0][0]',             \n",
            "                                                                     'dense_2[0][0]']             \n",
            "                                                                                                  \n",
            "==================================================================================================\n",
            "Total params: 34740 (135.70 KB)\n",
            "Trainable params: 34740 (135.70 KB)\n",
            "Non-trainable params: 0 (0.00 Byte)\n",
            "__________________________________________________________________________________________________\n"
          ]
        }
      ]
    },
    {
      "cell_type": "markdown",
      "source": [
        "#Decoder"
      ],
      "metadata": {
        "id": "xOD0TfDPI8yU"
      }
    },
    {
      "cell_type": "code",
      "source": [
        "latent_inputs = Input(shape=(LATENT_DIM,))\n",
        "\n",
        "x = Dense(7*7*64, activation='relu')(latent_inputs)\n",
        "x = Reshape((7,7,64))(x)\n",
        "\n",
        "x = Conv2DTranspose(64, 3, activation='relu', strides=2, padding='same')(x)\n",
        "x = Conv2DTranspose(32, 3, activation='relu', strides=2, padding='same')(x)\n",
        "\n",
        "decoder_output = Conv2DTranspose(1, 3, activation='sigmoid', padding='same')(x)\n",
        "decoder_model = Model(latent_inputs, decoder_output, name='decoder')\n",
        "decoder_model.summary()"
      ],
      "metadata": {
        "colab": {
          "base_uri": "https://localhost:8080/"
        },
        "id": "YqrCeJSgHpBo",
        "outputId": "0e1ed331-de60-4373-f29f-688cb4fd39a6"
      },
      "execution_count": 10,
      "outputs": [
        {
          "output_type": "stream",
          "name": "stdout",
          "text": [
            "Model: \"decoder\"\n",
            "_________________________________________________________________\n",
            " Layer (type)                Output Shape              Param #   \n",
            "=================================================================\n",
            " input_2 (InputLayer)        [(None, 2)]               0         \n",
            "                                                                 \n",
            " dense_3 (Dense)             (None, 3136)              9408      \n",
            "                                                                 \n",
            " reshape (Reshape)           (None, 7, 7, 64)          0         \n",
            "                                                                 \n",
            " conv2d_transpose (Conv2DTr  (None, 14, 14, 64)        36928     \n",
            " anspose)                                                        \n",
            "                                                                 \n",
            " conv2d_transpose_1 (Conv2D  (None, 28, 28, 32)        18464     \n",
            " Transpose)                                                      \n",
            "                                                                 \n",
            " conv2d_transpose_2 (Conv2D  (None, 28, 28, 1)         289       \n",
            " Transpose)                                                      \n",
            "                                                                 \n",
            "=================================================================\n",
            "Total params: 65089 (254.25 KB)\n",
            "Trainable params: 65089 (254.25 KB)\n",
            "Non-trainable params: 0 (0.00 Byte)\n",
            "_________________________________________________________________\n"
          ]
        }
      ]
    },
    {
      "cell_type": "markdown",
      "source": [
        "#Overall VAE Model"
      ],
      "metadata": {
        "id": "-NWatJ_bRA9Y"
      }
    },
    {
      "cell_type": "code",
      "source": [
        "vae_input = Input(shape=(28,28,1), name=\"vae_input\")\n",
        "x = encoder_model(vae_input)\n",
        "output = decoder_model(x)\n",
        "vae = Model(vae_input, output, name=\"vae\")\n",
        "vae.summary()"
      ],
      "metadata": {
        "colab": {
          "base_uri": "https://localhost:8080/"
        },
        "id": "QFffJ6_CRAZG",
        "outputId": "52615670-2963-45ff-cbd3-ec5a24c84bad"
      },
      "execution_count": 11,
      "outputs": [
        {
          "output_type": "stream",
          "name": "stdout",
          "text": [
            "Model: \"vae\"\n",
            "__________________________________________________________________________________________________\n",
            " Layer (type)                Output Shape                 Param #   Connected to                  \n",
            "==================================================================================================\n",
            " vae_input (InputLayer)      [(None, 28, 28, 1)]          0         []                            \n",
            "                                                                                                  \n",
            " encoder (Functional)        [(128, 2),                   34740     ['vae_input[0][0]']           \n",
            "                              (None, 2),                                                          \n",
            "                              (None, 2)]                                                          \n",
            "                                                                                                  \n",
            " decoder (Functional)        (None, 28, 28, 1)            65089     ['encoder[0][0]',             \n",
            "                                                                     'encoder[0][1]',             \n",
            "                                                                     'encoder[0][2]']             \n",
            "                                                                                                  \n",
            "==================================================================================================\n",
            "Total params: 99829 (389.96 KB)\n",
            "Trainable params: 99829 (389.96 KB)\n",
            "Non-trainable params: 0 (0.00 Byte)\n",
            "__________________________________________________________________________________________________\n"
          ]
        }
      ]
    },
    {
      "cell_type": "markdown",
      "source": [
        "#Training"
      ],
      "metadata": {
        "id": "jzurDfpiKz5A"
      }
    },
    {
      "cell_type": "code",
      "source": [
        "OPTIMIZER = Adam(learning_rate = 1e-3)\n",
        "EPOCHS = 30"
      ],
      "metadata": {
        "id": "oXmN7m-jDTbB"
      },
      "execution_count": 12,
      "outputs": []
    },
    {
      "cell_type": "code",
      "source": [
        "def custom_loss(y_true, y_pred, mean, log_var):\n",
        "\n",
        "  loss_rec = tf.reduce_mean(tf.reduce_sum(tf.keras.losses.binary_crossentropy(y_true, y_pred), axis=(1, 2)))\n",
        "  loss_reg = tf.reduce_mean(tf.reduce_sum(-0.5*(log_var+1-tf.math.square(mean)-tf.math.exp(log_var)), axis = 1))\n",
        "  return loss_rec+loss_reg"
      ],
      "metadata": {
        "id": "bS-DAPHHDTwn"
      },
      "execution_count": 13,
      "outputs": []
    },
    {
      "cell_type": "code",
      "source": [
        "def training_block(x_batch):\n",
        "  with tf.GradientTape() as recorder:\n",
        "    z, mean, log_var = encoder_model(x_batch)\n",
        "    y_pred = decoder_model(z)\n",
        "    y_true = x_batch\n",
        "    loss = custom_loss(y_true, y_pred, mean, log_var)\n",
        "\n",
        "  partial_derivatives = recorder.gradient(loss, vae.trainable_weights)\n",
        "  OPTIMIZER.apply_gradients(zip(partial_derivatives, vae.trainable_weights))\n",
        "  return loss"
      ],
      "metadata": {
        "id": "TLZbCi0CDU74"
      },
      "execution_count": 14,
      "outputs": []
    },
    {
      "cell_type": "code",
      "source": [
        "def neuralearn(epochs):\n",
        "  for epoch in range(1, epochs+1):\n",
        "    print('Training starts for epoch number {}'.format(epoch))\n",
        "\n",
        "    for step, x_batch in enumerate(train_dataset):\n",
        "      loss = training_block(x_batch)\n",
        "    print('Training Loss is: ', loss)\n",
        "  print('Training Complete!!!')"
      ],
      "metadata": {
        "id": "gcF9lm5UDV1p"
      },
      "execution_count": 15,
      "outputs": []
    },
    {
      "cell_type": "code",
      "source": [
        "neuralearn(EPOCHS)"
      ],
      "metadata": {
        "id": "GotdI45WDYUe",
        "colab": {
          "base_uri": "https://localhost:8080/"
        },
        "outputId": "ab031db4-faef-4a97-f922-894b99543bad"
      },
      "execution_count": null,
      "outputs": [
        {
          "output_type": "stream",
          "name": "stdout",
          "text": [
            "Training starts for epoch number 1\n"
          ]
        },
        {
          "output_type": "stream",
          "name": "stderr",
          "text": [
            "WARNING:tensorflow:5 out of the last 5 calls to <function _BaseOptimizer._update_step_xla at 0x7dd0a9e66200> triggered tf.function retracing. Tracing is expensive and the excessive number of tracings could be due to (1) creating @tf.function repeatedly in a loop, (2) passing tensors with different shapes, (3) passing Python objects instead of tensors. For (1), please define your @tf.function outside of the loop. For (2), @tf.function has reduce_retracing=True option that can avoid unnecessary retracing. For (3), please refer to https://www.tensorflow.org/guide/function#controlling_retracing and https://www.tensorflow.org/api_docs/python/tf/function for  more details.\n",
            "WARNING:tensorflow:6 out of the last 6 calls to <function _BaseOptimizer._update_step_xla at 0x7dd0a9e66200> triggered tf.function retracing. Tracing is expensive and the excessive number of tracings could be due to (1) creating @tf.function repeatedly in a loop, (2) passing tensors with different shapes, (3) passing Python objects instead of tensors. For (1), please define your @tf.function outside of the loop. For (2), @tf.function has reduce_retracing=True option that can avoid unnecessary retracing. For (3), please refer to https://www.tensorflow.org/guide/function#controlling_retracing and https://www.tensorflow.org/api_docs/python/tf/function for  more details.\n"
          ]
        }
      ]
    }
  ]
}