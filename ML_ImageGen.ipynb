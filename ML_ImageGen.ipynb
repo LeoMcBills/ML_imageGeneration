{
  "nbformat": 4,
  "nbformat_minor": 0,
  "metadata": {
    "colab": {
      "provenance": [],
      "gpuType": "T4",
      "authorship_tag": "ABX9TyOxJhYZnhjLYCneNqhnGf+J",
      "include_colab_link": true
    },
    "kernelspec": {
      "name": "python3",
      "display_name": "Python 3"
    },
    "language_info": {
      "name": "python"
    },
    "accelerator": "GPU"
  },
  "cells": [
    {
      "cell_type": "markdown",
      "metadata": {
        "id": "view-in-github",
        "colab_type": "text"
      },
      "source": [
        "<a href=\"https://colab.research.google.com/github/LeoMcBills/ML_imageGeneration/blob/main/ML_ImageGen.ipynb\" target=\"_parent\"><img src=\"https://colab.research.google.com/assets/colab-badge.svg\" alt=\"Open In Colab\"/></a>"
      ]
    },
    {
      "cell_type": "markdown",
      "source": [
        "# Variation autoencoders"
      ],
      "metadata": {
        "id": "OBMoNxjC5lfE"
      }
    },
    {
      "cell_type": "markdown",
      "source": [
        "GANs"
      ],
      "metadata": {
        "id": "1eDns_Yb5y63"
      }
    },
    {
      "cell_type": "code",
      "execution_count": 11,
      "metadata": {
        "id": "x_2kN3zavpuY"
      },
      "outputs": [],
      "source": [
        "import tensorflow as tf\n",
        "import numpy as np\n",
        "from tensorflow.keras.models import Model\n",
        "from tensorflow.keras.layers import Layer\n",
        "from tensorflow.keras.layers import (Reshape, Conv2DTranspose, Add, Conv2D, MaxPool2D, Dense,\n",
        "                                     Flatten, InputLayer, BatchNormalization, Input, )\n",
        "from tensorflow.keras.optimizers import Adam"
      ]
    },
    {
      "cell_type": "markdown",
      "source": [
        "# Data Preparation"
      ],
      "metadata": {
        "id": "Ay3FPcALBOE8"
      }
    },
    {
      "cell_type": "code",
      "source": [
        "(x_train, _), (x_test, _) = tf.keras.datasets.mnist.load_data()\n",
        "mnist_digits = np.concatenate([x_train, x_test], axis=0)\n",
        "mnist_digits = np.expand_dims(mnist_digits, -1).astype(\"float32\") / 255"
      ],
      "metadata": {
        "id": "Osa7YJvjBL7x"
      },
      "execution_count": 12,
      "outputs": []
    },
    {
      "cell_type": "code",
      "source": [
        "dataset = tf.data.Dataset.from_tensor_slices(mnist_digits)"
      ],
      "metadata": {
        "id": "_Hr87EmwCM0K"
      },
      "execution_count": 13,
      "outputs": []
    },
    {
      "cell_type": "code",
      "source": [
        "len(dataset)"
      ],
      "metadata": {
        "colab": {
          "base_uri": "https://localhost:8080/"
        },
        "id": "_UGfKkT7CZ0T",
        "outputId": "9cc11639-2a73-4a0b-8728-26f421d234af"
      },
      "execution_count": 14,
      "outputs": [
        {
          "output_type": "execute_result",
          "data": {
            "text/plain": [
              "70000"
            ]
          },
          "metadata": {},
          "execution_count": 14
        }
      ]
    },
    {
      "cell_type": "code",
      "source": [
        "BATCH_SIZE = 128\n",
        "LATENT_DIM = 2"
      ],
      "metadata": {
        "id": "DzbBqHa7CmIs"
      },
      "execution_count": 21,
      "outputs": []
    },
    {
      "cell_type": "code",
      "source": [
        "train_dataset = (\n",
        "    dataset\n",
        "    .shuffle(buffer_size = 1024, reshuffle_each_iteration = True)\n",
        "    .batch(BATCH_SIZE)\n",
        "    .prefetch(tf.data.AUTOTUNE)\n",
        ")"
      ],
      "metadata": {
        "id": "Ag0v1k7NCsav"
      },
      "execution_count": 16,
      "outputs": []
    },
    {
      "cell_type": "code",
      "source": [
        "train_dataset"
      ],
      "metadata": {
        "colab": {
          "base_uri": "https://localhost:8080/"
        },
        "id": "GhFaR7b1DKwm",
        "outputId": "f22df1e1-e020-4488-dcae-02abb9b612f8"
      },
      "execution_count": 17,
      "outputs": [
        {
          "output_type": "execute_result",
          "data": {
            "text/plain": [
              "<_PrefetchDataset element_spec=TensorSpec(shape=(None, 28, 28, 1), dtype=tf.float32, name=None)>"
            ]
          },
          "metadata": {},
          "execution_count": 17
        }
      ]
    },
    {
      "cell_type": "markdown",
      "source": [
        "# Modeling"
      ],
      "metadata": {
        "id": "zmPq9PWNDZ3m"
      }
    },
    {
      "cell_type": "markdown",
      "source": [
        "#Sampling"
      ],
      "metadata": {
        "id": "a0q8i-BgGSaI"
      }
    },
    {
      "cell_type": "code",
      "source": [
        "class Sampling(Layer):\n",
        "\n",
        "  def call(self, inputs):\n",
        "    mean, log_var = inputs\n",
        "\n",
        "    return mean + tf.math.exp(0.5*log_var)*tf.random.normal(shape = (BATCH_SIZE, LATENT_DIM))"
      ],
      "metadata": {
        "id": "9HzXNgHPGWnm"
      },
      "execution_count": 22,
      "outputs": []
    },
    {
      "cell_type": "markdown",
      "source": [
        "# Encoder"
      ],
      "metadata": {
        "id": "c0vMuLJODear"
      }
    },
    {
      "cell_type": "code",
      "source": [
        "encoder_inputs = Input(shape=(28, 28, 1))\n",
        "\n",
        "x = Conv2D(32, 3, activation='relu', strides=2, padding='same')(encoder_inputs)\n",
        "x = Conv2D(32, 3, activation='relu', strides=2, padding='same')(x)\n",
        "\n",
        "x = Flatten()(x)\n",
        "x = Dense(16, activation='relu')(x)\n",
        "\n",
        "mean = Dense(LATENT_DIM,)(x)\n",
        "log_var = Dense(LATENT_DIM, )(x)\n",
        "\n",
        "z = Sampling()([mean, log_var])\n",
        "\n",
        "encoder_model = Model(encoder_inputs, [z, mean, log_var], name='encoder')\n",
        "encoder_model.summary()"
      ],
      "metadata": {
        "id": "6Pg7dtKpDTF2",
        "colab": {
          "base_uri": "https://localhost:8080/"
        },
        "outputId": "c7d31fd0-3719-4fc9-ebd1-f811ec497205"
      },
      "execution_count": 23,
      "outputs": [
        {
          "output_type": "stream",
          "name": "stdout",
          "text": [
            "Model: \"encoder\"\n",
            "__________________________________________________________________________________________________\n",
            " Layer (type)                Output Shape                 Param #   Connected to                  \n",
            "==================================================================================================\n",
            " input_3 (InputLayer)        [(None, 28, 28, 1)]          0         []                            \n",
            "                                                                                                  \n",
            " conv2d_3 (Conv2D)           (None, 14, 14, 32)           320       ['input_3[0][0]']             \n",
            "                                                                                                  \n",
            " conv2d_4 (Conv2D)           (None, 7, 7, 32)             9248      ['conv2d_3[0][0]']            \n",
            "                                                                                                  \n",
            " flatten_1 (Flatten)         (None, 1568)                 0         ['conv2d_4[0][0]']            \n",
            "                                                                                                  \n",
            " dense_1 (Dense)             (None, 16)                   25104     ['flatten_1[0][0]']           \n",
            "                                                                                                  \n",
            " dense_2 (Dense)             (None, 2)                    34        ['dense_1[0][0]']             \n",
            "                                                                                                  \n",
            " dense_3 (Dense)             (None, 2)                    34        ['dense_1[0][0]']             \n",
            "                                                                                                  \n",
            " sampling (Sampling)         (128, 2)                     0         ['dense_2[0][0]',             \n",
            "                                                                     'dense_3[0][0]']             \n",
            "                                                                                                  \n",
            "==================================================================================================\n",
            "Total params: 34740 (135.70 KB)\n",
            "Trainable params: 34740 (135.70 KB)\n",
            "Non-trainable params: 0 (0.00 Byte)\n",
            "__________________________________________________________________________________________________\n"
          ]
        }
      ]
    },
    {
      "cell_type": "markdown",
      "source": [
        "#Decoder"
      ],
      "metadata": {
        "id": "xOD0TfDPI8yU"
      }
    },
    {
      "cell_type": "code",
      "source": [
        "latent_inputs = Input(shape=(LATENT_DIM,))\n",
        "\n",
        "x = Dense(7*7*64, activation='relu')(latent_inputs)\n",
        "x = Reshape((7,7,64))(x)\n",
        "\n",
        "x = Conv2DTranspose(64, 3, activation='relu', strides=2, padding='same')(x)\n",
        "x = Conv2DTranspose(32, 3, activation='relu', strides=2, padding='same')(x)\n",
        "\n",
        "decoder_output = Conv2DTranspose(1, 3, activation='sigmoid', padding='same')(x)\n",
        "decoder_model = Model(latent_inputs, decoder_output, name='decoder')\n",
        "decoder_model.summary()"
      ],
      "metadata": {
        "colab": {
          "base_uri": "https://localhost:8080/"
        },
        "id": "YqrCeJSgHpBo",
        "outputId": "8b484759-4988-4b49-8382-9694b04a131e"
      },
      "execution_count": 24,
      "outputs": [
        {
          "output_type": "stream",
          "name": "stdout",
          "text": [
            "Model: \"decoder\"\n",
            "_________________________________________________________________\n",
            " Layer (type)                Output Shape              Param #   \n",
            "=================================================================\n",
            " input_4 (InputLayer)        [(None, 2)]               0         \n",
            "                                                                 \n",
            " dense_4 (Dense)             (None, 3136)              9408      \n",
            "                                                                 \n",
            " reshape (Reshape)           (None, 7, 7, 64)          0         \n",
            "                                                                 \n",
            " conv2d_transpose (Conv2DTr  (None, 14, 14, 64)        36928     \n",
            " anspose)                                                        \n",
            "                                                                 \n",
            " conv2d_transpose_1 (Conv2D  (None, 28, 28, 32)        18464     \n",
            " Transpose)                                                      \n",
            "                                                                 \n",
            " conv2d_transpose_2 (Conv2D  (None, 28, 28, 1)         289       \n",
            " Transpose)                                                      \n",
            "                                                                 \n",
            "=================================================================\n",
            "Total params: 65089 (254.25 KB)\n",
            "Trainable params: 65089 (254.25 KB)\n",
            "Non-trainable params: 0 (0.00 Byte)\n",
            "_________________________________________________________________\n"
          ]
        }
      ]
    },
    {
      "cell_type": "markdown",
      "source": [
        "#Training"
      ],
      "metadata": {
        "id": "jzurDfpiKz5A"
      }
    },
    {
      "cell_type": "code",
      "source": [
        "OPTIMIZER = Adam(learning_rate = 1e-3)\n",
        "EPOCHS = 30"
      ],
      "metadata": {
        "id": "oXmN7m-jDTbB"
      },
      "execution_count": 25,
      "outputs": []
    },
    {
      "cell_type": "code",
      "source": [
        "def custom_loss(y_true, y_pred):\n",
        "\n",
        "  loss_recons = tf.reduce_mean(tf.reduce_sum(tf.keras.losses.binary_crossentropy(y_true, y_pred), axis=(1, 2)))"
      ],
      "metadata": {
        "id": "bS-DAPHHDTwn"
      },
      "execution_count": 26,
      "outputs": []
    },
    {
      "cell_type": "code",
      "source": [],
      "metadata": {
        "id": "TLZbCi0CDU74"
      },
      "execution_count": null,
      "outputs": []
    },
    {
      "cell_type": "code",
      "source": [],
      "metadata": {
        "id": "gcF9lm5UDV1p"
      },
      "execution_count": null,
      "outputs": []
    },
    {
      "cell_type": "code",
      "source": [],
      "metadata": {
        "id": "GotdI45WDYUe"
      },
      "execution_count": null,
      "outputs": []
    }
  ]
}